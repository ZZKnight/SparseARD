{
 "cells": [
  {
   "cell_type": "code",
   "execution_count": 1,
   "metadata": {},
   "outputs": [
    {
     "name": "stdout",
     "output_type": "stream",
     "text": [
      "Populating the interactive namespace from numpy and matplotlib\n"
     ]
    }
   ],
   "source": [
    "%pylab inline\n",
    "import numpy as np\n",
    "from numpy.fft import fft2,ifft2\n",
    "import itertools\n",
    "from SparseARD import*\n",
    "from AICc_Training import *\n",
    "import json\n",
    "np.random.seed(0)\n",
    "\n",
    "retrain = False"
   ]
  },
  {
   "cell_type": "code",
   "execution_count": 2,
   "metadata": {},
   "outputs": [
    {
     "name": "stdout",
     "output_type": "stream",
     "text": [
      "900\n"
     ]
    }
   ],
   "source": [
    "m = 250 # number of samples\n",
    "n = 2  # dimension of input    \n",
    "p = 30  # degree of fourier basis in each direction\n",
    "s = 50  # number of nonzero terms\n",
    "noise_percent = 10\n",
    "n_trials = 10\n",
    "\n",
    "tol = 1e-5 # tolerance for ARD algorithm\n",
    "verbose = False\n",
    "\n",
    "frequencies = list(itertools.product(np.arange(p),np.arange(p)))\n",
    "feature_maps = [lambda x,c=f: np.prod([np.cos(x[:,i]*c[i]).reshape(x.shape[0],1) \\\n",
    "                                       for i in range(n)],axis=0) for f in frequencies]\n",
    "d = len(feature_maps)\n",
    "print(d)"
   ]
  },
  {
   "cell_type": "code",
   "execution_count": 3,
   "metadata": {},
   "outputs": [],
   "source": [
    "if retrain:\n",
    "    \n",
    "    L1_err = {'ARD' : [], 'ARDr' : [], 'ARDvi' : [], 'mSTSBL' : [], 'lSTSBL' : [], 'dSTSBL' : []}\n",
    "    L2_err = {'ARD' : [], 'ARDr' : [], 'ARDvi' : [], 'mSTSBL' : [], 'lSTSBL' : [], 'dSTSBL' : []}\n",
    "    Added = {'ARD' : [], 'ARDr' : [], 'ARDvi' : [], 'mSTSBL' : [], 'lSTSBL' : [], 'dSTSBL' : []}\n",
    "    Missed = {'ARD' : [], 'ARDr' : [], 'ARDvi' : [], 'mSTSBL' : [], 'lSTSBL' : [], 'dSTSBL' : []}\n",
    "    \n",
    "    for trial in range(n_trials):\n",
    "    \n",
    "        print('Trial', trial+1, 'of', str(n_trials)+'.')\n",
    "\n",
    "        # Get random matrix\n",
    "        X = np.pi*np.random.rand(m,n)\n",
    "        Theta = np.hstack([f(X) for f in feature_maps])\n",
    "\n",
    "        nnz = np.random.choice(d,s,replace=False)\n",
    "        xi = np.zeros((d,1))\n",
    "        xi[nnz,0] = np.random.randn(s)\n",
    "        y0 = Theta.dot(xi)\n",
    "        sigma = 0.01*noise_percent*np.std(y0)\n",
    "        y = y0 + sigma*np.random.randn(m,1)\n",
    "\n",
    "        # Test each method\n",
    "        gamma_ARD,sigma2_ARD,mu_xi_ARD,_ = SBL([Theta,y], \\\n",
    "                                           sigma2=1, \\\n",
    "                                           estimate_sigma=True, \\\n",
    "                                           maxit=500, \\\n",
    "                                           verbose=verbose, \\\n",
    "                                           tol=tol)\n",
    "        AICc_ARD = AICc(Theta,y,gamma_ARD,sigma2_ARD)\n",
    "        ARD_results = gamma_ARD,sigma2_ARD,mu_xi_ARD,AICc_ARD\n",
    "\n",
    "        gamma_ARDr, sigma2_ARDr, mu_xi_ARDr = Train_ARDr(Theta,y,ARD_results=ARD_results,lams = [0,1e-2,1e-1,1e0,1e1,1e2])\n",
    "        gamma_ARDvi, sigma2_ARDvi, mu_xi_ARDvi = Train_ARDvi(Theta, y, ARD_results=ARD_results)\n",
    "        gamma_STSBL, sigma2_STSBL, mu_xi_STSBL = Train_M_STSBL(Theta, y, ARD_results=ARD_results)\n",
    "        gamma_lSTSBL, sigma2_lSTSBL, mu_xi_lSTSBL = Train_L_STSBL(Theta, y, ARD_results=ARD_results)\n",
    "        gamma_dSTSBL, sigma2_dSTSBL, mu_xi_dSTSBL = Train_MAP_STSBL(Theta, y, ARD_results=ARD_results)\n",
    "\n",
    "        # Record errors\n",
    "        L1_err['ARD'].append(np.linalg.norm(xi - mu_xi_ARD, 1))\n",
    "        L1_err['ARDr'].append(np.linalg.norm(xi - mu_xi_ARDr, 1))\n",
    "        L1_err['ARDvi'].append(np.linalg.norm(xi - mu_xi_ARDvi, 1))\n",
    "        L1_err['mSTSBL'].append(np.linalg.norm(xi - mu_xi_STSBL, 1))\n",
    "        L1_err['lSTSBL'].append(np.linalg.norm(xi - mu_xi_lSTSBL, 1))\n",
    "        L1_err['dSTSBL'].append(np.linalg.norm(xi - mu_xi_dSTSBL, 1))\n",
    "\n",
    "        L2_err['ARD'].append(np.linalg.norm(xi - mu_xi_ARD, 2))\n",
    "        L2_err['ARDr'].append(np.linalg.norm(xi - mu_xi_ARDr, 2))\n",
    "        L2_err['ARDvi'].append(np.linalg.norm(xi - mu_xi_ARDvi, 2))\n",
    "        L2_err['mSTSBL'].append(np.linalg.norm(xi - mu_xi_STSBL, 2))\n",
    "        L2_err['lSTSBL'].append(np.linalg.norm(xi - mu_xi_lSTSBL, 2))\n",
    "        L2_err['dSTSBL'].append(np.linalg.norm(xi - mu_xi_dSTSBL, 2))\n",
    "\n",
    "        _,added,missed = sparsity_err(mu_xi_ARD,xi)\n",
    "        Added['ARD'].append(added)\n",
    "        Missed['ARD'].append(missed)\n",
    "\n",
    "        _,added,missed = sparsity_err(mu_xi_ARDr,xi)\n",
    "        Added['ARDr'].append(added)\n",
    "        Missed['ARDr'].append(missed)\n",
    "\n",
    "        _,added,missed = sparsity_err(mu_xi_ARDvi,xi)\n",
    "        Added['ARDvi'].append(added)\n",
    "        Missed['ARDvi'].append(missed)\n",
    "\n",
    "        _,added,missed = sparsity_err(mu_xi_STSBL,xi)\n",
    "        Added['mSTSBL'].append(added)\n",
    "        Missed['mSTSBL'].append(missed)\n",
    "\n",
    "        _,added,missed = sparsity_err(mu_xi_lSTSBL,xi)\n",
    "        Added['lSTSBL'].append(added)\n",
    "        Missed['lSTSBL'].append(missed)\n",
    "\n",
    "        _,added,missed = sparsity_err(mu_xi_dSTSBL,xi)\n",
    "        Added['dSTSBL'].append(added)\n",
    "        Missed['dSTSBL'].append(missed)"
   ]
  },
  {
   "cell_type": "code",
   "execution_count": 4,
   "metadata": {},
   "outputs": [],
   "source": [
    "if retrain:\n",
    "    with open('./saved_results/Function_fitting_results.json','w') as f:\n",
    "        json.dump({'L2_err': L2_err, \\\n",
    "                   'L1_err': L1_err, \\\n",
    "                   'Added' : Added, \\\n",
    "                   'Missed' : Missed}, f)\n",
    "else:\n",
    "    with open('./saved_results/Function_fitting_results.json','r') as f:\n",
    "        results = json.load(f)\n",
    "    L2_err = results['L2_err']    \n",
    "    L1_err = results['L1_err']    \n",
    "    Added = results['Added']\n",
    "    Missed = results['Missed']"
   ]
  },
  {
   "cell_type": "code",
   "execution_count": 5,
   "metadata": {},
   "outputs": [
    {
     "data": {
      "image/png": "[encoded data removed]",
      "text/plain": [
       "<Figure size 1080x288 with 4 Axes>"
      ]
     },
     "metadata": {
      "needs_background": "light"
     },
     "output_type": "display_data"
    }
   ],
   "source": [
    "figure(figsize = (15,4))\n",
    "\n",
    "lw = 2\n",
    "label_fs = 16\n",
    "\n",
    "whis = [0,100]\n",
    "showfliers = False\n",
    "\n",
    "subplot(1,4,1)\n",
    "title(r'$\\ell^2$ Error', fontsize = 16)\n",
    "bp1 = boxplot([L2_err[key] for key in L2_err.keys()], positions = np.arange(6), \\\n",
    "              patch_artist=True, whis=whis, showfliers=showfliers)\n",
    "for box, whisker,cap in zip(bp1['boxes'], bp1['whiskers'], bp1['caps']):\n",
    "    box.set(color='blue', linewidth=lw)\n",
    "    box.set(facecolor = 'w' )\n",
    "yticks(fontsize = 12)\n",
    "xticks(np.arange(6), ['ARD','ARDr','ARDvi','M-ST','L-ST','MAP-ST'], fontsize = 12, rotation=45)\n",
    "\n",
    "for median in bp1['medians']:\n",
    "    median.set(color='k', linestyle = '--', linewidth=1.5)\n",
    "\n",
    "##########################################################################################\n",
    "##########################################################################################\n",
    "##########################################################################################\n",
    "\n",
    "subplot(1,4,2)\n",
    "title(r'$\\ell^1$ Error', fontsize = 16)\n",
    "bp2 = boxplot([L1_err[key] for key in L1_err.keys()], positions = np.arange(6), patch_artist=True, whis=whis, showfliers=showfliers)\n",
    "for box, whisker, cap in zip(bp2['boxes'], bp2['whiskers'], bp2['caps']):\n",
    "    box.set(color='red', linewidth=lw)\n",
    "    box.set(facecolor = 'w' )\n",
    "yticks(fontsize = 12)\n",
    "xticks(np.arange(6), ['ARD','ARDr','ARDvi','M-ST','L-ST','MAP-ST'], fontsize = 12, rotation=45)\n",
    "\n",
    "for median in bp2['medians']:\n",
    "    median.set(color='k', linestyle = '--', linewidth=1.5)\n",
    "\n",
    "##########################################################################################\n",
    "##########################################################################################\n",
    "##########################################################################################\n",
    "\n",
    "subplot(1,4,3)\n",
    "title(r'Added', fontsize = 16)\n",
    "bp3 = boxplot([Added[key] for key in Added.keys()], positions = np.arange(6), patch_artist=True, whis=whis, showfliers=showfliers)\n",
    "for box, whisker, cap, median in zip(bp3['boxes'], bp3['whiskers'], bp3['caps'], bp3['medians']):\n",
    "    box.set(color='green', linewidth=lw)\n",
    "    box.set(facecolor = 'w' )\n",
    "yticks(fontsize = 12)\n",
    "xticks(np.arange(6), ['ARD','ARDr','ARDvi','M-ST','L-ST','MAP-ST'], fontsize = 12, rotation=45)\n",
    "\n",
    "for median in bp3['medians']:\n",
    "    median.set(color='k', linestyle = '--', linewidth=1.5)\n",
    "\n",
    "##########################################################################################\n",
    "##########################################################################################\n",
    "##########################################################################################\n",
    "\n",
    "subplot(1,4,4)\n",
    "title(r'Missed', fontsize = 16)\n",
    "bp4 = boxplot([Missed[key] for key in Missed.keys()], positions = np.arange(6), patch_artist=True, whis=whis, showfliers=showfliers)\n",
    "for box, whisker, cap, median in zip(bp4['boxes'], bp4['whiskers'], bp4['caps'], bp4['medians']):\n",
    "    box.set(color='c', linewidth=lw)\n",
    "    box.set(facecolor = 'w' )\n",
    "yticks(fontsize = 12)\n",
    "xticks(np.arange(6), ['ARD','ARDr','ARDvi','M-ST','L-ST','MAP-ST'], fontsize = 12, rotation=45)\n",
    "\n",
    "for median in bp4['medians']:\n",
    "    median.set(color='k', linestyle = '--', linewidth=1.5)"
   ]
  },
  {
   "cell_type": "code",
   "execution_count": null,
   "metadata": {},
   "outputs": [],
   "source": []
  },
  {
   "cell_type": "code",
   "execution_count": null,
   "metadata": {},
   "outputs": [],
   "source": []
  },
  {
   "cell_type": "code",
   "execution_count": null,
   "metadata": {},
   "outputs": [],
   "source": []
  }
 ],
 "metadata": {
  "kernelspec": {
   "display_name": "Python 3",
   "language": "python",
   "name": "python3"
  },
  "language_info": {
   "codemirror_mode": {
    "name": "ipython",
    "version": 3
   },
   "file_extension": ".py",
   "mimetype": "text/x-python",
   "name": "python",
   "nbconvert_exporter": "python",
   "pygments_lexer": "ipython3",
   "version": "3.6.9"
  }
 },
 "nbformat": 4,
 "nbformat_minor": 2
}
