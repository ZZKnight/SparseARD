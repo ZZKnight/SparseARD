{
 "cells": [
  {
   "cell_type": "code",
   "execution_count": 1,
   "metadata": {},
   "outputs": [
    {
     "name": "stdout",
     "output_type": "stream",
     "text": [
      "Populating the interactive namespace from numpy and matplotlib\n"
     ]
    }
   ],
   "source": [
    "%pylab inline\n",
    "import numpy as np\n",
    "from scipy.special import erf\n",
    "from time import time\n",
    "import datetime\n",
    "from SparseARD import *\n",
    "\n",
    "retrain = False\n",
    "results_file = './saved_results/VI_MAP_100_5.npy'\n",
    "np.random.seed(0)"
   ]
  },
  {
   "cell_type": "code",
   "execution_count": 2,
   "metadata": {},
   "outputs": [],
   "source": [
    "alpha = 5\n",
    "\n",
    "log_kappa_min = 0\n",
    "log_kappa_max = 8\n",
    "n_kappas = 17\n",
    "\n",
    "log_sigma_min = -2\n",
    "log_sigma_max = -1\n",
    "n_sigmas = 2\n",
    "\n",
    "n_trials = 1000\n",
    "estimate_sigma = False\n",
    "maxit=1500\n",
    "\n",
    "# Note m>=n for features to be orthogonal\n",
    "n = 100\n",
    "m = 100\n",
    "s = 25\n",
    "\n",
    "kappas = np.logspace(log_kappa_min, log_kappa_max, n_kappas)\n",
    "sigmas = np.logspace(log_sigma_min, log_sigma_max, n_sigmas)"
   ]
  },
  {
   "cell_type": "code",
   "execution_count": 3,
   "metadata": {
    "scrolled": true
   },
   "outputs": [],
   "source": [
    "if retrain:\n",
    "\n",
    "    Added = {}\n",
    "    Missed = {}\n",
    "\n",
    "    for method in ['VI', 'MAP']:\n",
    "\n",
    "        Added[method] = [np.zeros((n_trials, n_kappas)) for _ in range(n_sigmas)]\n",
    "        Missed[method] = [np.zeros((n_trials, n_kappas)) for _ in range(n_sigmas)]\n",
    "\n",
    "    start_time = time()\n",
    "\n",
    "    for trial in range(n_trials):\n",
    "\n",
    "        for i in range(n_kappas):\n",
    "\n",
    "            kappa = kappas[i]\n",
    "\n",
    "            # Get random matrix Theta with cond(Theta)=kappa\n",
    "            S = np.diag(np.linspace(kappa**-1, 1, np.min([n,m])))\n",
    "            A = np.random.randn(m,n)\n",
    "            U,_,Vt = np.linalg.svd(A, full_matrices = False)\n",
    "            Theta = U.dot(S).dot(Vt)\n",
    "\n",
    "            # Random sparse vector\n",
    "            xi = np.zeros((n,1))\n",
    "            xi[:s] = np.random.randn(s,1)\n",
    "\n",
    "            for j in range(n_sigmas):\n",
    "\n",
    "                if i==0 and j==0 and trial == 0:\n",
    "                    print('Trial', trial+1, 'of', str(n_trials)+'.  kappa', i+1, 'of', \\\n",
    "                          str(n_kappas)+'. sigma', j+1, 'of', n_sigmas)\n",
    "                else:\n",
    "                    \"\"\"\n",
    "                    Prints out expected remaining time, but not very accurate since tests\n",
    "                    with higher condition number tendto take longer.\n",
    "                    \"\"\"\n",
    "                    ellapsed_time = time()-start_time\n",
    "                    tests_completed = trial*n_kappas*n_sigmas + i*n_sigmas + j\n",
    "                    tests_remaining = n_trials*n_kappas*n_sigmas - tests_completed\n",
    "                    ETA = int(tests_remaining*ellapsed_time/tests_completed)\n",
    "                    print('Trial', trial+1, 'of', str(n_trials)+'.  kappa', i+1, 'of', \\\n",
    "                          str(n_kappas)+'. sigma', j+1, 'of', str(n_sigmas)+'. ETA:', \\\n",
    "                          str(datetime.timedelta(seconds=ETA)))\n",
    "\n",
    "                sigma = sigmas[j]\n",
    "                y = Theta.dot(xi) + sigma*np.random.randn(m,1)\n",
    "\n",
    "                #####################################################################\n",
    "\n",
    "                # Learn with ARD-VI\n",
    "                xi_hat = SBL([Theta,y], alpha=alpha, sigma2=sigma**2, verbose=False, \\\n",
    "                             estimate_sigma = estimate_sigma, maxit=maxit)[2]\n",
    "\n",
    "                # Record sparsity\n",
    "                total, added, missed = sparsity_err(xi_hat, xi)\n",
    "                Added['VI'][j][trial,i] = added\n",
    "                Missed['VI'][j][trial,i] = missed\n",
    "\n",
    "                #####################################################################\n",
    "\n",
    "                # Learn with MAP-STSBL using tau_MAP = (alpha-1)/2\n",
    "                xi_hat = MAP_STSBL(Theta, y, (alpha-1)/2, sigma2=sigma**2, maxit=maxit, \\\n",
    "                                   estimate_sigma=estimate_sigma,verbose=False)[0]\n",
    "\n",
    "                # Record sparsity\n",
    "                total, added, missed = sparsity_err(xi_hat, xi)\n",
    "                Added['MAP'][j][trial,i] = added\n",
    "                Missed['MAP'][j][trial,i] = missed\n",
    "                \n",
    "    # Save results\n",
    "    results = {'Added': Added, \\\n",
    "               'Missed': Missed}\n",
    "    np.save(results_file, results)\n",
    "    \n",
    "else:\n",
    "    results = np.load(results_file, allow_pickle=True).item()\n",
    "    Added = results['Added']    \n",
    "    Missed = results['Missed']"
   ]
  },
  {
   "cell_type": "code",
   "execution_count": 4,
   "metadata": {},
   "outputs": [
    {
     "data": {
      "text/plain": [
       "<matplotlib.legend.Legend at 0x7f24cac1d7f0>"
      ]
     },
     "execution_count": 4,
     "metadata": {},
     "output_type": "execute_result"
    },
    {
     "data": {
      "image/png": "[encoded data removed]",
      "text/plain": [
       "<Figure size 864x216 with 2 Axes>"
      ]
     },
     "metadata": {
      "needs_background": "light"
     },
     "output_type": "display_data"
    }
   ],
   "source": [
    "figure(figsize = (12,3))\n",
    "fontsize = 13\n",
    "\n",
    "colors = ['r', 'b']\n",
    "linestyles = ['dotted', 'dashed']\n",
    "markertypes = ['o', 'x']\n",
    "\n",
    "################################################################################\n",
    "subplot(1,2,1)\n",
    "\n",
    "for i in range(len(Added.keys())):\n",
    "    method = list(Added.keys())[i]\n",
    "    for j in range(n_sigmas):        \n",
    "        plot(kappas, Added[method][j].mean(0), colors[i], linestyle=linestyles[j], \\\n",
    "             label=r'$\\sigma=$'+str(sigmas[j]), marker=markertypes[j])\n",
    "\n",
    "xscale('log')\n",
    "ylabel('Added terms', fontsize=fontsize)\n",
    "xlabel(r'$\\kappa$', fontsize=fontsize)\n",
    "xlim(kappas[0],kappas[-1])\n",
    "xticks(fontsize = fontsize)\n",
    "yticks(fontsize = fontsize)\n",
    "\n",
    "################################################################################\n",
    "subplot(1,2,2)\n",
    "\n",
    "for i in range(len(Missed.keys())):\n",
    "    method = list(Missed.keys())[i]\n",
    "    for j in range(n_sigmas):        \n",
    "        plot(kappas, Missed[method][j].mean(0), colors[i], linestyle=linestyles[j], \\\n",
    "             label=method+r': $\\sigma=$'+str(sigmas[j]), marker=markertypes[j])\n",
    "\n",
    "xscale('log')\n",
    "ylabel('Missed terms', fontsize=fontsize)\n",
    "xlabel(r'$\\kappa$', fontsize=fontsize)\n",
    "xlim(kappas[0],kappas[-1])\n",
    "xticks(fontsize = fontsize)\n",
    "yticks(fontsize = fontsize)\n",
    "legend(fontsize = fontsize, bbox_to_anchor=(1.05, 0.75), \\\n",
    "       loc='upper left', borderaxespad=0.)"
   ]
  },
  {
   "cell_type": "code",
   "execution_count": null,
   "metadata": {},
   "outputs": [],
   "source": []
  },
  {
   "cell_type": "code",
   "execution_count": null,
   "metadata": {},
   "outputs": [],
   "source": []
  },
  {
   "cell_type": "code",
   "execution_count": null,
   "metadata": {},
   "outputs": [],
   "source": []
  }
 ],
 "metadata": {
  "kernelspec": {
   "display_name": "Python 3",
   "language": "python",
   "name": "python3"
  },
  "language_info": {
   "codemirror_mode": {
    "name": "ipython",
    "version": 3
   },
   "file_extension": ".py",
   "mimetype": "text/x-python",
   "name": "python",
   "nbconvert_exporter": "python",
   "pygments_lexer": "ipython3",
   "version": "3.6.9"
  }
 },
 "nbformat": 4,
 "nbformat_minor": 2
}
